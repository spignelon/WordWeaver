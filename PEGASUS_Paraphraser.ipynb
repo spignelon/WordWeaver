{
  "nbformat": 4,
  "nbformat_minor": 0,
  "metadata": {
    "colab": {
      "provenance": [],
      "gpuType": "T4",
      "authorship_tag": "ABX9TyNfxF54ZktwT17XoeYpThhh",
      "include_colab_link": true
    },
    "kernelspec": {
      "name": "python3",
      "display_name": "Python 3"
    },
    "language_info": {
      "name": "python"
    },
    "accelerator": "GPU"
  },
  "cells": [
    {
      "cell_type": "markdown",
      "metadata": {
        "id": "view-in-github",
        "colab_type": "text"
      },
      "source": [
        "<a href=\"https://colab.research.google.com/github/spignelon/WordWeaver/blob/main/PEGASUS_Paraphraser.ipynb\" target=\"_parent\"><img src=\"https://colab.research.google.com/assets/colab-badge.svg\" alt=\"Open In Colab\"/></a>"
      ]
    },
    {
      "cell_type": "code",
      "execution_count": 1,
      "metadata": {
        "colab": {
          "base_uri": "https://localhost:8080/"
        },
        "id": "iGqRjh07V-m-",
        "outputId": "fc32f48d-28ab-4278-a377-ce5f2352b255"
      },
      "outputs": [
        {
          "output_type": "stream",
          "name": "stdout",
          "text": [
            "Collecting sentence-splitter\n",
            "  Downloading sentence_splitter-1.4-py2.py3-none-any.whl (44 kB)\n",
            "\u001b[2K     \u001b[90m━━━━━━━━━━━━━━━━━━━━━━━━━━━━━━━━━━━━━━━━\u001b[0m \u001b[32m45.0/45.0 kB\u001b[0m \u001b[31m1.7 MB/s\u001b[0m eta \u001b[36m0:00:00\u001b[0m\n",
            "\u001b[?25hRequirement already satisfied: regex>=2017.12.12 in /usr/local/lib/python3.10/dist-packages (from sentence-splitter) (2023.6.3)\n",
            "Installing collected packages: sentence-splitter\n",
            "Successfully installed sentence-splitter-1.4\n"
          ]
        }
      ],
      "source": [
        "! pip install sentence-splitter"
      ]
    },
    {
      "cell_type": "code",
      "source": [
        "! pip install transformers"
      ],
      "metadata": {
        "colab": {
          "base_uri": "https://localhost:8080/"
        },
        "id": "yzxsGs3vWYuQ",
        "outputId": "81ca6e4e-91c8-4f98-d282-4d4b2bd63d71"
      },
      "execution_count": 2,
      "outputs": [
        {
          "output_type": "stream",
          "name": "stdout",
          "text": [
            "Collecting transformers\n",
            "  Downloading transformers-4.31.0-py3-none-any.whl (7.4 MB)\n",
            "\u001b[2K     \u001b[90m━━━━━━━━━━━━━━━━━━━━━━━━━━━━━━━━━━━━━━━━\u001b[0m \u001b[32m7.4/7.4 MB\u001b[0m \u001b[31m20.1 MB/s\u001b[0m eta \u001b[36m0:00:00\u001b[0m\n",
            "\u001b[?25hRequirement already satisfied: filelock in /usr/local/lib/python3.10/dist-packages (from transformers) (3.12.2)\n",
            "Collecting huggingface-hub<1.0,>=0.14.1 (from transformers)\n",
            "  Downloading huggingface_hub-0.16.4-py3-none-any.whl (268 kB)\n",
            "\u001b[2K     \u001b[90m━━━━━━━━━━━━━━━━━━━━━━━━━━━━━━━━━━━━━━\u001b[0m \u001b[32m268.8/268.8 kB\u001b[0m \u001b[31m32.6 MB/s\u001b[0m eta \u001b[36m0:00:00\u001b[0m\n",
            "\u001b[?25hRequirement already satisfied: numpy>=1.17 in /usr/local/lib/python3.10/dist-packages (from transformers) (1.23.5)\n",
            "Requirement already satisfied: packaging>=20.0 in /usr/local/lib/python3.10/dist-packages (from transformers) (23.1)\n",
            "Requirement already satisfied: pyyaml>=5.1 in /usr/local/lib/python3.10/dist-packages (from transformers) (6.0.1)\n",
            "Requirement already satisfied: regex!=2019.12.17 in /usr/local/lib/python3.10/dist-packages (from transformers) (2023.6.3)\n",
            "Requirement already satisfied: requests in /usr/local/lib/python3.10/dist-packages (from transformers) (2.31.0)\n",
            "Collecting tokenizers!=0.11.3,<0.14,>=0.11.1 (from transformers)\n",
            "  Downloading tokenizers-0.13.3-cp310-cp310-manylinux_2_17_x86_64.manylinux2014_x86_64.whl (7.8 MB)\n",
            "\u001b[2K     \u001b[90m━━━━━━━━━━━━━━━━━━━━━━━━━━━━━━━━━━━━━━━━\u001b[0m \u001b[32m7.8/7.8 MB\u001b[0m \u001b[31m55.9 MB/s\u001b[0m eta \u001b[36m0:00:00\u001b[0m\n",
            "\u001b[?25hCollecting safetensors>=0.3.1 (from transformers)\n",
            "  Downloading safetensors-0.3.2-cp310-cp310-manylinux_2_17_x86_64.manylinux2014_x86_64.whl (1.3 MB)\n",
            "\u001b[2K     \u001b[90m━━━━━━━━━━━━━━━━━━━━━━━━━━━━━━━━━━━━━━━━\u001b[0m \u001b[32m1.3/1.3 MB\u001b[0m \u001b[31m74.5 MB/s\u001b[0m eta \u001b[36m0:00:00\u001b[0m\n",
            "\u001b[?25hRequirement already satisfied: tqdm>=4.27 in /usr/local/lib/python3.10/dist-packages (from transformers) (4.66.0)\n",
            "Requirement already satisfied: fsspec in /usr/local/lib/python3.10/dist-packages (from huggingface-hub<1.0,>=0.14.1->transformers) (2023.6.0)\n",
            "Requirement already satisfied: typing-extensions>=3.7.4.3 in /usr/local/lib/python3.10/dist-packages (from huggingface-hub<1.0,>=0.14.1->transformers) (4.7.1)\n",
            "Requirement already satisfied: charset-normalizer<4,>=2 in /usr/local/lib/python3.10/dist-packages (from requests->transformers) (3.2.0)\n",
            "Requirement already satisfied: idna<4,>=2.5 in /usr/local/lib/python3.10/dist-packages (from requests->transformers) (3.4)\n",
            "Requirement already satisfied: urllib3<3,>=1.21.1 in /usr/local/lib/python3.10/dist-packages (from requests->transformers) (2.0.4)\n",
            "Requirement already satisfied: certifi>=2017.4.17 in /usr/local/lib/python3.10/dist-packages (from requests->transformers) (2023.7.22)\n",
            "Installing collected packages: tokenizers, safetensors, huggingface-hub, transformers\n",
            "Successfully installed huggingface-hub-0.16.4 safetensors-0.3.2 tokenizers-0.13.3 transformers-4.31.0\n"
          ]
        }
      ]
    },
    {
      "cell_type": "code",
      "source": [
        "! pip install SentencePiece"
      ],
      "metadata": {
        "colab": {
          "base_uri": "https://localhost:8080/"
        },
        "id": "kiPZujR7XJaH",
        "outputId": "4794093f-1494-46c3-cf2f-97a9459a14df"
      },
      "execution_count": 3,
      "outputs": [
        {
          "output_type": "stream",
          "name": "stdout",
          "text": [
            "Collecting SentencePiece\n",
            "  Downloading sentencepiece-0.1.99-cp310-cp310-manylinux_2_17_x86_64.manylinux2014_x86_64.whl (1.3 MB)\n",
            "\u001b[2K     \u001b[90m━━━━━━━━━━━━━━━━━━━━━━━━━━━━━━━━━━━━━━━━\u001b[0m \u001b[32m1.3/1.3 MB\u001b[0m \u001b[31m8.6 MB/s\u001b[0m eta \u001b[36m0:00:00\u001b[0m\n",
            "\u001b[?25hInstalling collected packages: SentencePiece\n",
            "Successfully installed SentencePiece-0.1.99\n"
          ]
        }
      ]
    },
    {
      "cell_type": "code",
      "source": [
        "# https://huggingface.co/tuner007/pegasus_paraphrase\n",
        "\n",
        "import torch\n",
        "from transformers import PegasusForConditionalGeneration, PegasusTokenizer\n",
        "\n",
        "model_name = 'tuner007/pegasus_paraphrase'\n",
        "torch_device = 'cuda' if torch.cuda.is_available() else 'cpu'\n",
        "tokenizer = PegasusTokenizer.from_pretrained(model_name)\n",
        "model = PegasusForConditionalGeneration.from_pretrained(model_name).to(torch_device)\n",
        "\n",
        "def get_response(input_text,num_return_sequences):\n",
        "  batch = tokenizer([input_text],truncation=True,padding='longest',max_length=60, return_tensors=\"pt\").to(torch_device)\n",
        "  translated = model.generate(**batch,max_length=60,num_beams=10, num_return_sequences=num_return_sequences, temperature=1.5)\n",
        "  tgt_text = tokenizer.batch_decode(translated, skip_special_tokens=True)\n",
        "  return tgt_text"
      ],
      "metadata": {
        "colab": {
          "base_uri": "https://localhost:8080/"
        },
        "id": "RmI-Y7Q3Wh1O",
        "outputId": "8b50cb61-de22-4505-f445-2a8ca228732c"
      },
      "execution_count": 7,
      "outputs": [
        {
          "output_type": "stream",
          "name": "stderr",
          "text": [
            "Some weights of PegasusForConditionalGeneration were not initialized from the model checkpoint at tuner007/pegasus_paraphrase and are newly initialized: ['model.decoder.embed_positions.weight', 'model.encoder.embed_positions.weight']\n",
            "You should probably TRAIN this model on a down-stream task to be able to use it for predictions and inference.\n"
          ]
        }
      ]
    },
    {
      "cell_type": "code",
      "source": [
        "text = \"This announcement has caused a stir in the industry, with some users still investigating the degree to which they’ll be affected.\""
      ],
      "metadata": {
        "id": "FSF60Tn3XhbT"
      },
      "execution_count": 8,
      "outputs": []
    },
    {
      "cell_type": "code",
      "source": [
        "get_response(text, 5)"
      ],
      "metadata": {
        "colab": {
          "base_uri": "https://localhost:8080/"
        },
        "id": "qKGO0lGFYkEw",
        "outputId": "935812b0-524f-4ad3-9d9f-cbf1fe96cf99"
      },
      "execution_count": 9,
      "outputs": [
        {
          "output_type": "execute_result",
          "data": {
            "text/plain": [
              "['Some users are still investigating the degree to which they will be affected by this announcement.',\n",
              " 'Some users are still looking at the degree to which they will be affected by this announcement.',\n",
              " 'Some users are still investigating the degree to which they will be affected by the announcement.',\n",
              " 'Users are still investigating the degree to which they will be affected by this announcement.',\n",
              " 'Some users are still investigating the degree to which they will be affected by this announcement, which has caused a stir in the industry.']"
            ]
          },
          "metadata": {},
          "execution_count": 9
        }
      ]
    },
    {
      "cell_type": "markdown",
      "source": [
        "### Processing a paragraph of text"
      ],
      "metadata": {
        "id": "FAyvnF03ar4m"
      }
    },
    {
      "cell_type": "code",
      "source": [
        "context = \"An elephant's most obvious part is the trunk. The trunk is a very long nose, made from the upper lip. An elephant uses its trunk to grab objects such as food. Though the rest of an elephant's skin is strong and thick, its trunk is very soft and sensitive. Elephants avoid Acacia trees with ants because they can bite the inside of an elephant's trunk. The trunk is also used when it trumpets. The elephant usually stands still, raises its trunk, and blows. This is a signal to other elephants and animals.\"\n",
        "print(context)"
      ],
      "metadata": {
        "colab": {
          "base_uri": "https://localhost:8080/"
        },
        "id": "XGx8FD5iayr7",
        "outputId": "3bdcf161-5b67-404c-b923-39df80684c75"
      },
      "execution_count": 12,
      "outputs": [
        {
          "output_type": "stream",
          "name": "stdout",
          "text": [
            "An elephant's most obvious part is the trunk. The trunk is a very long nose, made from the upper lip. An elephant uses its trunk to grab objects such as food. Though the rest of an elephant's skin is strong and thick, its trunk is very soft and sensitive. Elephants avoid Acacia trees with ants because they can bite the inside of an elephant's trunk. The trunk is also used when it trumpets. The elephant usually stands still, raises its trunk, and blows. This is a signal to other elephants and animals.\n"
          ]
        }
      ]
    },
    {
      "cell_type": "code",
      "source": [
        "# Takes the input paragraph and splits it into a list of sentences\n",
        "from sentence_splitter import SentenceSplitter, split_text_into_sentences\n",
        "\n",
        "splitter = SentenceSplitter(language='en')\n",
        "\n",
        "sentence_list = splitter.split(context)\n",
        "sentence_list"
      ],
      "metadata": {
        "colab": {
          "base_uri": "https://localhost:8080/"
        },
        "id": "2gp0oGlmblOr",
        "outputId": "278ead10-a1d9-4c8f-d3b6-b25b99328195"
      },
      "execution_count": 13,
      "outputs": [
        {
          "output_type": "execute_result",
          "data": {
            "text/plain": [
              "[\"An elephant's most obvious part is the trunk.\",\n",
              " 'The trunk is a very long nose, made from the upper lip.',\n",
              " 'An elephant uses its trunk to grab objects such as food.',\n",
              " \"Though the rest of an elephant's skin is strong and thick, its trunk is very soft and sensitive.\",\n",
              " \"Elephants avoid Acacia trees with ants because they can bite the inside of an elephant's trunk.\",\n",
              " 'The trunk is also used when it trumpets.',\n",
              " 'The elephant usually stands still, raises its trunk, and blows.',\n",
              " 'This is a signal to other elephants and animals.']"
            ]
          },
          "metadata": {},
          "execution_count": 13
        }
      ]
    },
    {
      "cell_type": "code",
      "source": [
        "# Do a for loop to iterate through the list of sentences and paraphrase each sentence in the iteration\n",
        "paraphrase = []\n",
        "\n",
        "for i in sentence_list:\n",
        "  a = get_response(i,1)\n",
        "  paraphrase.append(a)"
      ],
      "metadata": {
        "id": "_eBqcTwPboPb"
      },
      "execution_count": 14,
      "outputs": []
    },
    {
      "cell_type": "code",
      "source": [
        "paraphrase"
      ],
      "metadata": {
        "colab": {
          "base_uri": "https://localhost:8080/"
        },
        "id": "dSN6Pe6lb8GL",
        "outputId": "dbc3f4a1-effa-41a6-f00a-690827652bd4"
      },
      "execution_count": 15,
      "outputs": [
        {
          "output_type": "execute_result",
          "data": {
            "text/plain": [
              "[['The trunk is the most obvious part of an elephant.'],\n",
              " [\"The trunk's nose is made from the upper lip.\"],\n",
              " ['An elephant has a trunk.'],\n",
              " [\"The trunk of an elephant is very soft and sensitive, even though the rest of the elephant's skin is strong and thick.\"],\n",
              " [\"Elephants don't like trees with ants because they can bite inside of an elephant's trunk.\"],\n",
              " ['When it trumpets, the trunk is also used.'],\n",
              " ['The elephant blows when it stands still.'],\n",
              " ['This is a sign of things to come.']]"
            ]
          },
          "metadata": {},
          "execution_count": 15
        }
      ]
    },
    {
      "cell_type": "code",
      "source": [
        "paraphrase2 = [' '.join(x) for x in paraphrase]\n",
        "paraphrase2"
      ],
      "metadata": {
        "colab": {
          "base_uri": "https://localhost:8080/"
        },
        "id": "hhe1F8wqcAT9",
        "outputId": "065016be-91a5-4582-b791-13264d51ba20"
      },
      "execution_count": 16,
      "outputs": [
        {
          "output_type": "execute_result",
          "data": {
            "text/plain": [
              "['The trunk is the most obvious part of an elephant.',\n",
              " \"The trunk's nose is made from the upper lip.\",\n",
              " 'An elephant has a trunk.',\n",
              " \"The trunk of an elephant is very soft and sensitive, even though the rest of the elephant's skin is strong and thick.\",\n",
              " \"Elephants don't like trees with ants because they can bite inside of an elephant's trunk.\",\n",
              " 'When it trumpets, the trunk is also used.',\n",
              " 'The elephant blows when it stands still.',\n",
              " 'This is a sign of things to come.']"
            ]
          },
          "metadata": {},
          "execution_count": 16
        }
      ]
    },
    {
      "cell_type": "code",
      "source": [
        "paraphrase3 = [' '.join(x for x in paraphrase2) ]\n",
        "paraphrased_text = str(paraphrase3).strip('[]').strip(\"'\")\n",
        "paraphrased_text"
      ],
      "metadata": {
        "colab": {
          "base_uri": "https://localhost:8080/",
          "height": 70
        },
        "id": "QLEmTI1icne5",
        "outputId": "27863cc0-a3a4-479c-ee55-c79a8d6b01c2"
      },
      "execution_count": 19,
      "outputs": [
        {
          "output_type": "execute_result",
          "data": {
            "text/plain": [
              "'\"The trunk is the most obvious part of an elephant. The trunk\\'s nose is made from the upper lip. An elephant has a trunk. The trunk of an elephant is very soft and sensitive, even though the rest of the elephant\\'s skin is strong and thick. Elephants don\\'t like trees with ants because they can bite inside of an elephant\\'s trunk. When it trumpets, the trunk is also used. The elephant blows when it stands still. This is a sign of things to come.\"'"
            ],
            "application/vnd.google.colaboratory.intrinsic+json": {
              "type": "string"
            }
          },
          "metadata": {},
          "execution_count": 19
        }
      ]
    },
    {
      "cell_type": "code",
      "source": [
        "# Comparison of the original (context variable) and the paraphrased version (paraphrase3 variable)\n",
        "\n",
        "print(context)\n",
        "print(paraphrased_text)"
      ],
      "metadata": {
        "colab": {
          "base_uri": "https://localhost:8080/"
        },
        "id": "h3GOT6xwcsXy",
        "outputId": "5ad51fb8-8441-4668-d3d8-273e88e33c59"
      },
      "execution_count": 20,
      "outputs": [
        {
          "output_type": "stream",
          "name": "stdout",
          "text": [
            "An elephant's most obvious part is the trunk. The trunk is a very long nose, made from the upper lip. An elephant uses its trunk to grab objects such as food. Though the rest of an elephant's skin is strong and thick, its trunk is very soft and sensitive. Elephants avoid Acacia trees with ants because they can bite the inside of an elephant's trunk. The trunk is also used when it trumpets. The elephant usually stands still, raises its trunk, and blows. This is a signal to other elephants and animals.\n",
            "\"The trunk is the most obvious part of an elephant. The trunk's nose is made from the upper lip. An elephant has a trunk. The trunk of an elephant is very soft and sensitive, even though the rest of the elephant's skin is strong and thick. Elephants don't like trees with ants because they can bite inside of an elephant's trunk. When it trumpets, the trunk is also used. The elephant blows when it stands still. This is a sign of things to come.\"\n"
          ]
        }
      ]
    },
    {
      "cell_type": "code",
      "source": [],
      "metadata": {
        "id": "C_pqmN4kdPcE"
      },
      "execution_count": null,
      "outputs": []
    }
  ]
}